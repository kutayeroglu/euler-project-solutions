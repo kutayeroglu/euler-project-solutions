{
 "cells": [
  {
   "cell_type": "markdown",
   "metadata": {},
   "source": [
    "### *This problem is taken from projecteuler.net"
   ]
  },
  {
   "cell_type": "code",
   "execution_count": 2,
   "metadata": {
    "collapsed": true
   },
   "outputs": [
    {
     "data": {
      "text/plain": [
       "'\\nMultiples of 3 and 5\\nProblem 1\\n\\nIf we list all the natural numbers below 10 that are multiples of 3 or 5, we get 3, 5, 6 and 9. \\nThe sum of these multiples is 23.\\n\\nFind the sum of all the multiples of 3 or 5 below 1000.\\n'"
      ]
     },
     "execution_count": 2,
     "metadata": {},
     "output_type": "execute_result"
    }
   ],
   "source": [
    "\"\"\"\n",
    "Multiples of 3 and 5\n",
    "Problem 1\n",
    "\n",
    "If we list all the natural numbers below 10 that are multiples of 3 or 5, we get 3, 5, 6 and 9. \n",
    "The sum of these multiples is 23.\n",
    "\n",
    "Find the sum of all the multiples of 3 or 5 below 1000.\n",
    "\"\"\""
   ]
  },
  {
   "cell_type": "code",
   "execution_count": 3,
   "metadata": {},
   "outputs": [],
   "source": [
    "def solution1 (endpoint) : \n",
    "    odd_sum = 0\n",
    "    even_sum = 0\n",
    "    #Odd multiples can be found by checking the interval when step = 2  \n",
    "    for num in range(3,endpoint,2) :\n",
    "        #If the number is divisible by 3 or 5, it is added to the odd sum\n",
    "        if num % 3 == 0 or num % 5 == 0 :\n",
    "            odd_sum += num \n",
    "        \n",
    "    #Even multiples which are either a multiple of 6 or 10 can be found via two for loops\n",
    "    #One with step = 6, the other with step = 10\n",
    "    for num in range (10,endpoint,10) : \n",
    "        even_sum += num\n",
    "\n",
    "    for num in range(6,endpoint) : \n",
    "        #Numbers which are divisible by 10 are already added to even sum. Therefore, adding\n",
    "        #them to the sum should be avoided.\n",
    "        if num % 10 == 0 : \n",
    "            pass \n",
    "        elif num % 6 == 0 :\n",
    "            even_sum += num \n",
    "            \n",
    "    return even_sum + odd_sum"
   ]
  },
  {
   "cell_type": "code",
   "execution_count": 4,
   "metadata": {
    "scrolled": true
   },
   "outputs": [
    {
     "name": "stdout",
     "output_type": "stream",
     "text": [
      "233168\n"
     ]
    }
   ],
   "source": [
    "print(solution1(1000))"
   ]
  },
  {
   "cell_type": "markdown",
   "metadata": {},
   "source": [
    "# Solution 2 "
   ]
  },
  {
   "cell_type": "markdown",
   "metadata": {},
   "source": [
    "##### Going to see the runtime difference on a more efficient code "
   ]
  },
  {
   "cell_type": "code",
   "execution_count": 6,
   "metadata": {},
   "outputs": [],
   "source": [
    "def solution2(endpoint) : \n",
    "    sumx = 0\n",
    "    for num in range(3,endpoint) : \n",
    "        if num % 3 == 0 or num % 5 == 0 : \n",
    "            sumx += num \n",
    "            \n",
    "    return sumx"
   ]
  },
  {
   "cell_type": "markdown",
   "metadata": {},
   "source": [
    "# Code runtime"
   ]
  },
  {
   "cell_type": "markdown",
   "metadata": {},
   "source": [
    "### Processor : 2 GHz Quad-Core Intel Core i7\n"
   ]
  },
  {
   "cell_type": "markdown",
   "metadata": {},
   "source": [
    "### Performance comparison "
   ]
  },
  {
   "cell_type": "code",
   "execution_count": 9,
   "metadata": {},
   "outputs": [
    {
     "name": "stdout",
     "output_type": "stream",
     "text": [
      "2333333316666668\n",
      "Solution-1 runtime :  0:00:18.001052\n"
     ]
    }
   ],
   "source": [
    "q = datetime.now()\n",
    "print(solution1(10**8))\n",
    "print(\"Solution-1 runtime : \", datetime.now()-q) "
   ]
  },
  {
   "cell_type": "code",
   "execution_count": 11,
   "metadata": {},
   "outputs": [
    {
     "name": "stdout",
     "output_type": "stream",
     "text": [
      "2333333316666668\n",
      "Solution-2 runtime :  0:00:11.564603\n"
     ]
    }
   ],
   "source": [
    "q = datetime.now()\n",
    "print(solution2(10**8))\n",
    "print(\"Solution-2 runtime : \", datetime.now()-q) "
   ]
  }
 ],
 "metadata": {
  "kernelspec": {
   "display_name": "Python 3",
   "language": "python",
   "name": "python3"
  },
  "language_info": {
   "codemirror_mode": {
    "name": "ipython",
    "version": 3
   },
   "file_extension": ".py",
   "mimetype": "text/x-python",
   "name": "python",
   "nbconvert_exporter": "python",
   "pygments_lexer": "ipython3",
   "version": "3.7.4"
  }
 },
 "nbformat": 4,
 "nbformat_minor": 2
}
