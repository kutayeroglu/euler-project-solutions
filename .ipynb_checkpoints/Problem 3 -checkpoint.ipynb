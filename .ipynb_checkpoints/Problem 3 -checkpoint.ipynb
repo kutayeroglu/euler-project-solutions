{
 "cells": [
  {
   "cell_type": "code",
   "execution_count": null,
   "metadata": {},
   "outputs": [],
   "source": [
    "\"\"\"\n",
    "- - - This problem was taken from projecteuler.net - - -\n",
    "\n",
    "Largest prime factor\n",
    "Problem 3\n",
    "The prime factors of 13195 are 5, 7, 13 and 29.\n",
    "\n",
    "What is the largest prime factor of the number 600851475143 ?\n",
    "\n",
    "\"\"\""
   ]
  },
  {
   "cell_type": "code",
   "execution_count": 43,
   "metadata": {},
   "outputs": [],
   "source": [
    "import math \n",
    "from datetime import datetime "
   ]
  },
  {
   "cell_type": "markdown",
   "metadata": {},
   "source": [
    "### Solution for large input "
   ]
  },
  {
   "cell_type": "code",
   "execution_count": 74,
   "metadata": {},
   "outputs": [],
   "source": [
    "def largest_prime_factor(n) :\n",
    "    \n",
    "    upper_limit = math.trunc((n**0.5))\n",
    "    \n",
    "    while(1) : \n",
    "        \n",
    "        for num in range(upper_limit, 2, -1) : \n",
    "            if n % num == 0 :\n",
    "                if(isPrime(num)) : \n",
    "                    return num \n",
    "            else : \n",
    "                pass\n",
    "            \n",
    "        if(isPrime(n)) : \n",
    "            return n "
   ]
  },
  {
   "cell_type": "code",
   "execution_count": 79,
   "metadata": {},
   "outputs": [
    {
     "name": "stdout",
     "output_type": "stream",
     "text": [
      "6857\n"
     ]
    }
   ],
   "source": [
    "print(largest_prime_factor(600851475143 ))"
   ]
  },
  {
   "cell_type": "code",
   "execution_count": 81,
   "metadata": {},
   "outputs": [],
   "source": [
    "## It must be noted that some of the higher inputs give wrong results 60124124143. Later updates shall be focused on \n",
    "## fixing this issue. (Probably an issue regarding upper_limit)"
   ]
  },
  {
   "cell_type": "markdown",
   "metadata": {},
   "source": [
    "### Solution for small input "
   ]
  },
  {
   "cell_type": "code",
   "execution_count": 44,
   "metadata": {},
   "outputs": [],
   "source": [
    "## Works good for small input, but can't find the result in a reasonable time for the given input \n",
    "def largest_prm_fct(n) : \n",
    "    \n",
    "    original_value = n \n",
    "    primes = list_primes(n)\n",
    "\n",
    "    while(1) : \n",
    "               \n",
    "        if(len(primes) == 0) : ## if there is no primes left in our prime list \n",
    "            return original_value \n",
    "        \n",
    "        elif(n % primes[-1] == 0) : ## Since largest prime is at the end of the list, we check for last element each time \n",
    "            return primes[-1]\n",
    "        else : ## if last element doesn't work we remove it and try the prior element later \n",
    "            del primes[-1]"
   ]
  },
  {
   "cell_type": "code",
   "execution_count": 45,
   "metadata": {},
   "outputs": [],
   "source": [
    "def list_primes(n) : ## listing the primes until n/2 \n",
    "    \n",
    "    lmt = math.trunc(n/2)\n",
    "    prime_list = []\n",
    "    \n",
    "    for num in range(0,lmt) : \n",
    "        if isPrime(num):\n",
    "            prime_list.append(num)\n",
    "            \n",
    "    return prime_list "
   ]
  },
  {
   "cell_type": "code",
   "execution_count": 46,
   "metadata": {},
   "outputs": [],
   "source": [
    "## taken from : https://stackoverflow.com/questions/15285534/isprime-function-for-python-language\n",
    "def isPrime(n):\n",
    "    if n==2 or n==3: return True\n",
    "    if n%2==0 or n<2: return False\n",
    "    for i in range(3, int(n**0.5)+1, 2):   # only odd numbers\n",
    "        if n%i==0:\n",
    "            return False    \n",
    "\n",
    "    return True"
   ]
  },
  {
   "cell_type": "code",
   "execution_count": 77,
   "metadata": {},
   "outputs": [
    {
     "data": {
      "text/plain": [
       "41"
      ]
     },
     "execution_count": 77,
     "metadata": {},
     "output_type": "execute_result"
    }
   ],
   "source": [
    "largest_prm_fct(123123)"
   ]
  }
 ],
 "metadata": {
  "kernelspec": {
   "display_name": "Python 3",
   "language": "python",
   "name": "python3"
  },
  "language_info": {
   "codemirror_mode": {
    "name": "ipython",
    "version": 3
   },
   "file_extension": ".py",
   "mimetype": "text/x-python",
   "name": "python",
   "nbconvert_exporter": "python",
   "pygments_lexer": "ipython3",
   "version": "3.7.4"
  }
 },
 "nbformat": 4,
 "nbformat_minor": 2
}
