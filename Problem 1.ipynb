{
 "cells": [
  {
   "cell_type": "markdown",
   "metadata": {},
   "source": [
    "### *This problem is taken from projecteuler.net"
   ]
  },
  {
   "cell_type": "code",
   "execution_count": 3,
   "metadata": {
    "collapsed": true
   },
   "outputs": [
    {
     "data": {
      "text/plain": [
       "'\\nMultiples of 3 and 5\\nProblem 1\\n\\nIf we list all the natural numbers below 10 that are multiples of 3 or 5, we get 3, 5, 6 and 9. \\nThe sum of these multiples is 23.\\n\\nFind the sum of all the multiples of 3 or 5 below 1000.\\n'"
      ]
     },
     "execution_count": 3,
     "metadata": {},
     "output_type": "execute_result"
    }
   ],
   "source": [
    "\"\"\"\n",
    "Multiples of 3 and 5\n",
    "Problem 1\n",
    "\n",
    "If we list all the natural numbers below 10 that are multiples of 3 or 5, we get 3, 5, 6 and 9. \n",
    "The sum of these multiples is 23.\n",
    "\n",
    "Find the sum of all the multiples of 3 or 5 below 1000.\n",
    "\"\"\""
   ]
  },
  {
   "cell_type": "code",
   "execution_count": 7,
   "metadata": {},
   "outputs": [],
   "source": [
    "odd_sum = 0\n",
    "even_sum = 0\n",
    "\n",
    "#Odd multiples can be found by checking the interval when step = 2  \n",
    "for num in range(3,1000,2) :\n",
    "    #If the number is divisible by 3 or 5, it is added to the odd sum\n",
    "    if num % 3 == 0 or num % 5 == 0 :\n",
    "        odd_sum += num \n",
    "        \n",
    "#Even multiples which are either a multiple of 6 or 10 can be found via two for loops\n",
    "#One with step = 6, the other with step = 10\n",
    "for num in range (10,1000,10) : \n",
    "    even_sum += num\n",
    "    \n",
    "for num in range(6,1000) : \n",
    "    #Numbers which are divisible by 10 are already added to even sum. Therefore, adding\n",
    "    #them to the sum should be avoided.\n",
    "    if num % 10 == 0 : \n",
    "        pass \n",
    "    elif num % 6 == 0 :\n",
    "        even_sum += num "
   ]
  },
  {
   "cell_type": "code",
   "execution_count": 8,
   "metadata": {
    "scrolled": true
   },
   "outputs": [
    {
     "name": "stdout",
     "output_type": "stream",
     "text": [
      "233168\n"
     ]
    }
   ],
   "source": [
    "print(odd_sum + even_sum)"
   ]
  },
  {
   "cell_type": "markdown",
   "metadata": {},
   "source": [
    "# Code runtime"
   ]
  },
  {
   "cell_type": "markdown",
   "metadata": {},
   "source": [
    "### Processor : 2 GHz Quad-Core Intel Core i7\n"
   ]
  },
  {
   "cell_type": "code",
   "execution_count": 9,
   "metadata": {},
   "outputs": [
    {
     "name": "stdout",
     "output_type": "stream",
     "text": [
      "--------- SURE -  0:00:00.000041\n"
     ]
    }
   ],
   "source": [
    "from datetime import datetime          \n",
    "q = datetime.now()                                \n",
    "print('--------- SURE - ',datetime.now() - q) "
   ]
  }
 ],
 "metadata": {
  "kernelspec": {
   "display_name": "Python 3",
   "language": "python",
   "name": "python3"
  },
  "language_info": {
   "codemirror_mode": {
    "name": "ipython",
    "version": 3
   },
   "file_extension": ".py",
   "mimetype": "text/x-python",
   "name": "python",
   "nbconvert_exporter": "python",
   "pygments_lexer": "ipython3",
   "version": "3.7.4"
  }
 },
 "nbformat": 4,
 "nbformat_minor": 2
}
