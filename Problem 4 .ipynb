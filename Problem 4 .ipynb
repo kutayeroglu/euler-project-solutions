{
 "cells": [
  {
   "cell_type": "code",
   "execution_count": null,
   "metadata": {},
   "outputs": [],
   "source": [
    "\"\"\"\n",
    "- - - This problem was taken from projecteuler.net - - - \n",
    "\n",
    "A palindromic number reads the same both ways. The largest palindrome made from the product of two 2-digit numbers is 9009 = 91 × 99.\n",
    "\n",
    "Find the largest palindrome made from the product of two 3-digit numbers.\n",
    "\n",
    "\"\"\""
   ]
  },
  {
   "cell_type": "code",
   "execution_count": 40,
   "metadata": {},
   "outputs": [],
   "source": [
    "from datetime import datetime "
   ]
  },
  {
   "cell_type": "code",
   "execution_count": 35,
   "metadata": {},
   "outputs": [],
   "source": [
    "## To check if the result is a palindrome \n",
    "def is_palindrome(x) : \n",
    "    return (str)(x)[::-1] == (str)(x)"
   ]
  },
  {
   "cell_type": "code",
   "execution_count": 42,
   "metadata": {},
   "outputs": [],
   "source": [
    "## 100*900 = 90000 < x < 999*999 = 998001\n",
    "## Last digit of the product can't be zero. Therefore we eliminate any pair which has 0 as its last digit. Also,\n",
    "## we should prevent 5 from pairing up with an even number "
   ]
  },
  {
   "cell_type": "code",
   "execution_count": 44,
   "metadata": {},
   "outputs": [
    {
     "name": "stdout",
     "output_type": "stream",
     "text": [
      "906609\n",
      "Runtime:  0:00:01.311826\n"
     ]
    }
   ],
   "source": [
    "q = datetime.now()\n",
    "palindromes = []\n",
    "\n",
    "for num1 in range(999,101,-1) :\n",
    "    \n",
    "    for num2 in range(998,101,-1) : \n",
    "        \n",
    "        if num1 % 10 == 0 or num2 % 10 == 0 : \n",
    "            continue  \n",
    "        elif str(num1)[-1] == '5' and (int)((str)(num2)[-1]) % 2 == 0 : \n",
    "            continue \n",
    "        elif (int)((str)(num1)[-1]) % 2 == 0 and str(num2)[-1] == '5' : \n",
    "            continue  \n",
    "        else :\n",
    "            product = num1*num2\n",
    "            \n",
    "            if is_palindrome(product) : \n",
    "                palindromes.append(product)\n",
    "print(max(palindromes))\n",
    "print(\"Runtime: \", datetime.now()-q)"
   ]
  }
 ],
 "metadata": {
  "kernelspec": {
   "display_name": "Python 3",
   "language": "python",
   "name": "python3"
  },
  "language_info": {
   "codemirror_mode": {
    "name": "ipython",
    "version": 3
   },
   "file_extension": ".py",
   "mimetype": "text/x-python",
   "name": "python",
   "nbconvert_exporter": "python",
   "pygments_lexer": "ipython3",
   "version": "3.7.4"
  }
 },
 "nbformat": 4,
 "nbformat_minor": 2
}
