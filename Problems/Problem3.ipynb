{
 "cells": [
  {
   "cell_type": "code",
   "execution_count": null,
   "metadata": {},
   "outputs": [],
   "source": [
    "\"\"\"\n",
    "- - - This problem was taken from projecteuler.net - - -\n",
    "\n",
    "Largest prime factor\n",
    "Problem 3\n",
    "The prime factors of 13195 are 5, 7, 13 and 29.\n",
    "\n",
    "What is the largest prime factor of the number 600851475143 ?\n",
    "\n",
    "\"\"\""
   ]
  },
  {
   "cell_type": "code",
   "execution_count": 3,
   "metadata": {},
   "outputs": [],
   "source": [
    "import math \n",
    "from datetime import datetime "
   ]
  },
  {
   "cell_type": "code",
   "execution_count": 17,
   "metadata": {},
   "outputs": [],
   "source": [
    "def largest_prime_factor(n) : \n",
    "    \n",
    "    prime_factors = []\n",
    "    \n",
    "    ## Could have appended in the while loop but didn't want to append over and over again \n",
    "    if n % 2 == 0 : \n",
    "        prime_factors.append(2)\n",
    "    \n",
    "    while n % 2 == 0 : \n",
    "        n = n/2\n",
    "    \n",
    "    for i in range(3,(int)(math.sqrt(n)+1), 2) : \n",
    "        \n",
    "        if n % i == 0 : \n",
    "            prime_factors.append(i)\n",
    "\n",
    "        while n % i == 0 : \n",
    "            n = n/i \n",
    "            \n",
    "    ## If the left over number is prime over the limit of math.sqrt(n) we find it with this check    \n",
    "    if n>2 :\n",
    "        prime_factors.append(i)\n",
    "\n",
    "    return max(prime_factors)"
   ]
  },
  {
   "cell_type": "code",
   "execution_count": 18,
   "metadata": {
    "scrolled": true
   },
   "outputs": [
    {
     "data": {
      "text/plain": [
       "1823187"
      ]
     },
     "execution_count": 18,
     "metadata": {},
     "output_type": "execute_result"
    }
   ],
   "source": [
    "largest_prime_factor(6648031207514)"
   ]
  },
  {
   "cell_type": "markdown",
   "metadata": {},
   "source": [
    "## Answer to the original question "
   ]
  },
  {
   "cell_type": "code",
   "execution_count": 19,
   "metadata": {
    "scrolled": true
   },
   "outputs": [
    {
     "data": {
      "text/plain": [
       "6857"
      ]
     },
     "execution_count": 19,
     "metadata": {},
     "output_type": "execute_result"
    }
   ],
   "source": [
    "largest_prime_factor(600851475143)"
   ]
  },
  {
   "cell_type": "markdown",
   "metadata": {},
   "source": [
    "## Runtime"
   ]
  },
  {
   "cell_type": "code",
   "execution_count": 23,
   "metadata": {},
   "outputs": [
    {
     "name": "stdout",
     "output_type": "stream",
     "text": [
      "Runtime: 0:00:00.085604\n"
     ]
    }
   ],
   "source": [
    "q = datetime.now()\n",
    "largest_prime_factor(600851475143)\n",
    "print(\"Runtime:\",datetime.now() - q)"
   ]
  },
  {
   "cell_type": "markdown",
   "metadata": {},
   "source": [
    "### Solution for small input "
   ]
  },
  {
   "cell_type": "code",
   "execution_count": 6,
   "metadata": {},
   "outputs": [],
   "source": [
    "## Works good for small input, but can't find the result in a reasonable time for the given input \n",
    "## Left this solution here just because I found it somewhat elegant. \n",
    "def largest_prm_fct(n) : \n",
    "    \n",
    "    original_value = n \n",
    "    primes = list_primes(n)\n",
    "\n",
    "    while(1) : \n",
    "               \n",
    "        if(len(primes) == 0) : ## if there is no primes left in our prime list \n",
    "            return original_value \n",
    "        \n",
    "        elif(n % primes[-1] == 0) : ## Since largest prime is at the end of the list, we check for last element each time \n",
    "            return primes[-1]\n",
    "        else : ## if last element doesn't work we remove it and try the prior element later \n",
    "            del primes[-1]"
   ]
  },
  {
   "cell_type": "code",
   "execution_count": 7,
   "metadata": {},
   "outputs": [],
   "source": [
    "def list_primes(n) : ## listing the primes until n/2 \n",
    "    \n",
    "    lmt = math.trunc(n/2)\n",
    "    prime_list = []\n",
    "    \n",
    "    for num in range(0,lmt) : \n",
    "        if isPrime(num):\n",
    "            prime_list.append(num)\n",
    "            \n",
    "    return prime_list "
   ]
  },
  {
   "cell_type": "code",
   "execution_count": 5,
   "metadata": {},
   "outputs": [],
   "source": [
    "## taken from : https://stackoverflow.com/questions/15285534/isprime-function-for-python-language\n",
    "def isPrime(n):\n",
    "    if n==2 or n==3: return True\n",
    "    if n%2==0 or n<2: return False\n",
    "    for i in range(3, int(n**0.5)+1, 2):   # only odd numbers\n",
    "        if n%i==0:\n",
    "            return False    \n",
    "\n",
    "    return True"
   ]
  },
  {
   "cell_type": "code",
   "execution_count": 9,
   "metadata": {},
   "outputs": [
    {
     "data": {
      "text/plain": [
       "41"
      ]
     },
     "execution_count": 9,
     "metadata": {},
     "output_type": "execute_result"
    }
   ],
   "source": [
    "largest_prm_fct(123123)"
   ]
  }
 ],
 "metadata": {
  "kernelspec": {
   "display_name": "Python 3",
   "language": "python",
   "name": "python3"
  },
  "language_info": {
   "codemirror_mode": {
    "name": "ipython",
    "version": 3
   },
   "file_extension": ".py",
   "mimetype": "text/x-python",
   "name": "python",
   "nbconvert_exporter": "python",
   "pygments_lexer": "ipython3",
   "version": "3.7.4"
  }
 },
 "nbformat": 4,
 "nbformat_minor": 2
}
