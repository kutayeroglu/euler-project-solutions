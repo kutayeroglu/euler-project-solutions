{
 "cells": [
  {
   "cell_type": "code",
   "execution_count": 1,
   "metadata": {
    "collapsed": true
   },
   "outputs": [
    {
     "data": {
      "text/plain": [
       "'\\nDisclaimer : This problem was taken from projecteuler.net\\n\\nSpecial Pythagorean triplet\\nProblem 9\\n\\nA Pythagorean triplet is a set of three natural numbers, a < b < c, for which,\\n\\na^2 + b^2 = c^2\\nFor example, 3^2 + 4^2 = 9 + 16 = 25 = 5^2.\\n\\nThere exists exactly one Pythagorean triplet for which a + b + c = 1000.\\nFind the product abc.\\n\\n'"
      ]
     },
     "execution_count": 1,
     "metadata": {},
     "output_type": "execute_result"
    }
   ],
   "source": [
    "\"\"\"\n",
    "Disclaimer : This problem was taken from projecteuler.net\n",
    "\n",
    "Special Pythagorean triplet\n",
    "Problem 9\n",
    "\n",
    "A Pythagorean triplet is a set of three natural numbers, a < b < c, for which,\n",
    "\n",
    "a^2 + b^2 = c^2\n",
    "For example, 3^2 + 4^2 = 9 + 16 = 25 = 5^2.\n",
    "\n",
    "There exists exactly one Pythagorean triplet for which a + b + c = 1000.\n",
    "Find the product abc.\n",
    "\n",
    "\"\"\""
   ]
  },
  {
   "cell_type": "code",
   "execution_count": 2,
   "metadata": {
    "scrolled": true
   },
   "outputs": [
    {
     "name": "stdout",
     "output_type": "stream",
     "text": [
      "a =  375 \n",
      "b =  200 \n",
      "c =  425.0\n",
      "abc =  31875000.0\n"
     ]
    }
   ],
   "source": [
    "result_dct = {\"a\" : \"not found\", \"b\" : \"not found\" , \"c\" :\"not found\"}\n",
    "\n",
    "for a in range (1,1000)  :    \n",
    "    for b in range (1,1000) : \n",
    "        if ((a**2 + b**2)**0.5 > 1000) : break \n",
    "        \n",
    "        if ((a**2 + b**2)**0.5 + a + b) == 1000 : \n",
    "            result_dct[\"a\"] = a\n",
    "            result_dct[\"b\"] = b\n",
    "            result_dct[\"c\"] = (a**2 + b**2) ** 0.5\n",
    "\n",
    "print(\"a = \", result_dct[\"a\"], \"\\nb = \", result_dct[\"b\"], \"\\nc = \", result_dct[\"c\"])\n",
    "print(\"abc = \", result_dct[\"a\"]*result_dct[\"b\"]*result_dct[\"c\"])"
   ]
  }
 ],
 "metadata": {
  "kernelspec": {
   "display_name": "Python 3",
   "language": "python",
   "name": "python3"
  },
  "language_info": {
   "codemirror_mode": {
    "name": "ipython",
    "version": 3
   },
   "file_extension": ".py",
   "mimetype": "text/x-python",
   "name": "python",
   "nbconvert_exporter": "python",
   "pygments_lexer": "ipython3",
   "version": "3.7.4"
  }
 },
 "nbformat": 4,
 "nbformat_minor": 4
}
